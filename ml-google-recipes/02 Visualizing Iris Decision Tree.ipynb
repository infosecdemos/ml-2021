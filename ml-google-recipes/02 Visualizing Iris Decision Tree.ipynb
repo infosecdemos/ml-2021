{
 "cells": [
  {
   "cell_type": "code",
   "execution_count": 1,
   "metadata": {
    "collapsed": true
   },
   "outputs": [],
   "source": [
    "import numpy as np\n",
    "from sklearn.datasets import load_iris\n",
    "from sklearn import tree"
   ]
  },
  {
   "cell_type": "code",
   "execution_count": 2,
   "metadata": {
    "collapsed": true
   },
   "outputs": [],
   "source": [
    "iris = load_iris()\n",
    "test_idx = [0, 50, 100]"
   ]
  },
  {
   "cell_type": "code",
   "execution_count": 3,
   "metadata": {},
   "outputs": [
    {
     "data": {
      "text/plain": [
       "['sepal length (cm)',\n",
       " 'sepal width (cm)',\n",
       " 'petal length (cm)',\n",
       " 'petal width (cm)']"
      ]
     },
     "execution_count": 3,
     "metadata": {},
     "output_type": "execute_result"
    }
   ],
   "source": [
    "iris.feature_names"
   ]
  },
  {
   "cell_type": "code",
   "execution_count": 4,
   "metadata": {},
   "outputs": [
    {
     "data": {
      "text/plain": [
       "array(['setosa', 'versicolor', 'virginica'], \n",
       "      dtype='<U10')"
      ]
     },
     "execution_count": 4,
     "metadata": {},
     "output_type": "execute_result"
    }
   ],
   "source": [
    "iris.target_names"
   ]
  },
  {
   "cell_type": "code",
   "execution_count": 5,
   "metadata": {},
   "outputs": [
    {
     "data": {
      "text/plain": [
       "array([ 5.1,  3.5,  1.4,  0.2])"
      ]
     },
     "execution_count": 5,
     "metadata": {},
     "output_type": "execute_result"
    }
   ],
   "source": [
    "iris.data[0]"
   ]
  },
  {
   "cell_type": "code",
   "execution_count": 6,
   "metadata": {},
   "outputs": [
    {
     "name": "stdout",
     "output_type": "stream",
     "text": [
      "Example 0: label 0, features [ 5.1  3.5  1.4  0.2]\n",
      "Example 1: label 0, features [ 4.9  3.   1.4  0.2]\n",
      "Example 2: label 0, features [ 4.7  3.2  1.3  0.2]\n",
      "Example 3: label 0, features [ 4.6  3.1  1.5  0.2]\n",
      "Example 4: label 0, features [ 5.   3.6  1.4  0.2]\n",
      "Example 5: label 0, features [ 5.4  3.9  1.7  0.4]\n",
      "Example 6: label 0, features [ 4.6  3.4  1.4  0.3]\n",
      "Example 7: label 0, features [ 5.   3.4  1.5  0.2]\n",
      "Example 8: label 0, features [ 4.4  2.9  1.4  0.2]\n",
      "Example 9: label 0, features [ 4.9  3.1  1.5  0.1]\n",
      "Example 10: label 0, features [ 5.4  3.7  1.5  0.2]\n",
      "Example 11: label 0, features [ 4.8  3.4  1.6  0.2]\n",
      "Example 12: label 0, features [ 4.8  3.   1.4  0.1]\n",
      "Example 13: label 0, features [ 4.3  3.   1.1  0.1]\n",
      "Example 14: label 0, features [ 5.8  4.   1.2  0.2]\n",
      "Example 15: label 0, features [ 5.7  4.4  1.5  0.4]\n",
      "Example 16: label 0, features [ 5.4  3.9  1.3  0.4]\n",
      "Example 17: label 0, features [ 5.1  3.5  1.4  0.3]\n",
      "Example 18: label 0, features [ 5.7  3.8  1.7  0.3]\n",
      "Example 19: label 0, features [ 5.1  3.8  1.5  0.3]\n",
      "Example 20: label 0, features [ 5.4  3.4  1.7  0.2]\n",
      "Example 21: label 0, features [ 5.1  3.7  1.5  0.4]\n",
      "Example 22: label 0, features [ 4.6  3.6  1.   0.2]\n",
      "Example 23: label 0, features [ 5.1  3.3  1.7  0.5]\n",
      "Example 24: label 0, features [ 4.8  3.4  1.9  0.2]\n",
      "Example 25: label 0, features [ 5.   3.   1.6  0.2]\n",
      "Example 26: label 0, features [ 5.   3.4  1.6  0.4]\n",
      "Example 27: label 0, features [ 5.2  3.5  1.5  0.2]\n",
      "Example 28: label 0, features [ 5.2  3.4  1.4  0.2]\n",
      "Example 29: label 0, features [ 4.7  3.2  1.6  0.2]\n",
      "Example 30: label 0, features [ 4.8  3.1  1.6  0.2]\n",
      "Example 31: label 0, features [ 5.4  3.4  1.5  0.4]\n",
      "Example 32: label 0, features [ 5.2  4.1  1.5  0.1]\n",
      "Example 33: label 0, features [ 5.5  4.2  1.4  0.2]\n",
      "Example 34: label 0, features [ 4.9  3.1  1.5  0.1]\n",
      "Example 35: label 0, features [ 5.   3.2  1.2  0.2]\n",
      "Example 36: label 0, features [ 5.5  3.5  1.3  0.2]\n",
      "Example 37: label 0, features [ 4.9  3.1  1.5  0.1]\n",
      "Example 38: label 0, features [ 4.4  3.   1.3  0.2]\n",
      "Example 39: label 0, features [ 5.1  3.4  1.5  0.2]\n",
      "Example 40: label 0, features [ 5.   3.5  1.3  0.3]\n",
      "Example 41: label 0, features [ 4.5  2.3  1.3  0.3]\n",
      "Example 42: label 0, features [ 4.4  3.2  1.3  0.2]\n",
      "Example 43: label 0, features [ 5.   3.5  1.6  0.6]\n",
      "Example 44: label 0, features [ 5.1  3.8  1.9  0.4]\n",
      "Example 45: label 0, features [ 4.8  3.   1.4  0.3]\n",
      "Example 46: label 0, features [ 5.1  3.8  1.6  0.2]\n",
      "Example 47: label 0, features [ 4.6  3.2  1.4  0.2]\n",
      "Example 48: label 0, features [ 5.3  3.7  1.5  0.2]\n",
      "Example 49: label 0, features [ 5.   3.3  1.4  0.2]\n",
      "Example 50: label 1, features [ 7.   3.2  4.7  1.4]\n",
      "Example 51: label 1, features [ 6.4  3.2  4.5  1.5]\n",
      "Example 52: label 1, features [ 6.9  3.1  4.9  1.5]\n",
      "Example 53: label 1, features [ 5.5  2.3  4.   1.3]\n",
      "Example 54: label 1, features [ 6.5  2.8  4.6  1.5]\n",
      "Example 55: label 1, features [ 5.7  2.8  4.5  1.3]\n",
      "Example 56: label 1, features [ 6.3  3.3  4.7  1.6]\n",
      "Example 57: label 1, features [ 4.9  2.4  3.3  1. ]\n",
      "Example 58: label 1, features [ 6.6  2.9  4.6  1.3]\n",
      "Example 59: label 1, features [ 5.2  2.7  3.9  1.4]\n",
      "Example 60: label 1, features [ 5.   2.   3.5  1. ]\n",
      "Example 61: label 1, features [ 5.9  3.   4.2  1.5]\n",
      "Example 62: label 1, features [ 6.   2.2  4.   1. ]\n",
      "Example 63: label 1, features [ 6.1  2.9  4.7  1.4]\n",
      "Example 64: label 1, features [ 5.6  2.9  3.6  1.3]\n",
      "Example 65: label 1, features [ 6.7  3.1  4.4  1.4]\n",
      "Example 66: label 1, features [ 5.6  3.   4.5  1.5]\n",
      "Example 67: label 1, features [ 5.8  2.7  4.1  1. ]\n",
      "Example 68: label 1, features [ 6.2  2.2  4.5  1.5]\n",
      "Example 69: label 1, features [ 5.6  2.5  3.9  1.1]\n",
      "Example 70: label 1, features [ 5.9  3.2  4.8  1.8]\n",
      "Example 71: label 1, features [ 6.1  2.8  4.   1.3]\n",
      "Example 72: label 1, features [ 6.3  2.5  4.9  1.5]\n",
      "Example 73: label 1, features [ 6.1  2.8  4.7  1.2]\n",
      "Example 74: label 1, features [ 6.4  2.9  4.3  1.3]\n",
      "Example 75: label 1, features [ 6.6  3.   4.4  1.4]\n",
      "Example 76: label 1, features [ 6.8  2.8  4.8  1.4]\n",
      "Example 77: label 1, features [ 6.7  3.   5.   1.7]\n",
      "Example 78: label 1, features [ 6.   2.9  4.5  1.5]\n",
      "Example 79: label 1, features [ 5.7  2.6  3.5  1. ]\n",
      "Example 80: label 1, features [ 5.5  2.4  3.8  1.1]\n",
      "Example 81: label 1, features [ 5.5  2.4  3.7  1. ]\n",
      "Example 82: label 1, features [ 5.8  2.7  3.9  1.2]\n",
      "Example 83: label 1, features [ 6.   2.7  5.1  1.6]\n",
      "Example 84: label 1, features [ 5.4  3.   4.5  1.5]\n",
      "Example 85: label 1, features [ 6.   3.4  4.5  1.6]\n",
      "Example 86: label 1, features [ 6.7  3.1  4.7  1.5]\n",
      "Example 87: label 1, features [ 6.3  2.3  4.4  1.3]\n",
      "Example 88: label 1, features [ 5.6  3.   4.1  1.3]\n",
      "Example 89: label 1, features [ 5.5  2.5  4.   1.3]\n",
      "Example 90: label 1, features [ 5.5  2.6  4.4  1.2]\n",
      "Example 91: label 1, features [ 6.1  3.   4.6  1.4]\n",
      "Example 92: label 1, features [ 5.8  2.6  4.   1.2]\n",
      "Example 93: label 1, features [ 5.   2.3  3.3  1. ]\n",
      "Example 94: label 1, features [ 5.6  2.7  4.2  1.3]\n",
      "Example 95: label 1, features [ 5.7  3.   4.2  1.2]\n",
      "Example 96: label 1, features [ 5.7  2.9  4.2  1.3]\n",
      "Example 97: label 1, features [ 6.2  2.9  4.3  1.3]\n",
      "Example 98: label 1, features [ 5.1  2.5  3.   1.1]\n",
      "Example 99: label 1, features [ 5.7  2.8  4.1  1.3]\n",
      "Example 100: label 2, features [ 6.3  3.3  6.   2.5]\n",
      "Example 101: label 2, features [ 5.8  2.7  5.1  1.9]\n",
      "Example 102: label 2, features [ 7.1  3.   5.9  2.1]\n",
      "Example 103: label 2, features [ 6.3  2.9  5.6  1.8]\n",
      "Example 104: label 2, features [ 6.5  3.   5.8  2.2]\n",
      "Example 105: label 2, features [ 7.6  3.   6.6  2.1]\n",
      "Example 106: label 2, features [ 4.9  2.5  4.5  1.7]\n",
      "Example 107: label 2, features [ 7.3  2.9  6.3  1.8]\n",
      "Example 108: label 2, features [ 6.7  2.5  5.8  1.8]\n",
      "Example 109: label 2, features [ 7.2  3.6  6.1  2.5]\n",
      "Example 110: label 2, features [ 6.5  3.2  5.1  2. ]\n",
      "Example 111: label 2, features [ 6.4  2.7  5.3  1.9]\n",
      "Example 112: label 2, features [ 6.8  3.   5.5  2.1]\n",
      "Example 113: label 2, features [ 5.7  2.5  5.   2. ]\n",
      "Example 114: label 2, features [ 5.8  2.8  5.1  2.4]\n",
      "Example 115: label 2, features [ 6.4  3.2  5.3  2.3]\n",
      "Example 116: label 2, features [ 6.5  3.   5.5  1.8]\n",
      "Example 117: label 2, features [ 7.7  3.8  6.7  2.2]\n",
      "Example 118: label 2, features [ 7.7  2.6  6.9  2.3]\n",
      "Example 119: label 2, features [ 6.   2.2  5.   1.5]\n",
      "Example 120: label 2, features [ 6.9  3.2  5.7  2.3]\n",
      "Example 121: label 2, features [ 5.6  2.8  4.9  2. ]\n",
      "Example 122: label 2, features [ 7.7  2.8  6.7  2. ]\n",
      "Example 123: label 2, features [ 6.3  2.7  4.9  1.8]\n",
      "Example 124: label 2, features [ 6.7  3.3  5.7  2.1]\n",
      "Example 125: label 2, features [ 7.2  3.2  6.   1.8]\n",
      "Example 126: label 2, features [ 6.2  2.8  4.8  1.8]\n",
      "Example 127: label 2, features [ 6.1  3.   4.9  1.8]\n",
      "Example 128: label 2, features [ 6.4  2.8  5.6  2.1]\n",
      "Example 129: label 2, features [ 7.2  3.   5.8  1.6]\n",
      "Example 130: label 2, features [ 7.4  2.8  6.1  1.9]\n",
      "Example 131: label 2, features [ 7.9  3.8  6.4  2. ]\n",
      "Example 132: label 2, features [ 6.4  2.8  5.6  2.2]\n",
      "Example 133: label 2, features [ 6.3  2.8  5.1  1.5]\n",
      "Example 134: label 2, features [ 6.1  2.6  5.6  1.4]\n",
      "Example 135: label 2, features [ 7.7  3.   6.1  2.3]\n",
      "Example 136: label 2, features [ 6.3  3.4  5.6  2.4]\n",
      "Example 137: label 2, features [ 6.4  3.1  5.5  1.8]\n",
      "Example 138: label 2, features [ 6.   3.   4.8  1.8]\n",
      "Example 139: label 2, features [ 6.9  3.1  5.4  2.1]\n",
      "Example 140: label 2, features [ 6.7  3.1  5.6  2.4]\n",
      "Example 141: label 2, features [ 6.9  3.1  5.1  2.3]\n",
      "Example 142: label 2, features [ 5.8  2.7  5.1  1.9]\n",
      "Example 143: label 2, features [ 6.8  3.2  5.9  2.3]\n",
      "Example 144: label 2, features [ 6.7  3.3  5.7  2.5]\n",
      "Example 145: label 2, features [ 6.7  3.   5.2  2.3]\n",
      "Example 146: label 2, features [ 6.3  2.5  5.   1.9]\n",
      "Example 147: label 2, features [ 6.5  3.   5.2  2. ]\n",
      "Example 148: label 2, features [ 6.2  3.4  5.4  2.3]\n",
      "Example 149: label 2, features [ 5.9  3.   5.1  1.8]\n"
     ]
    }
   ],
   "source": [
    "for i in range(len(iris.target)):\n",
    "    print(\"Example %d: label %s, features %s\" % (i, iris.target[i], iris.data[i]))"
   ]
  },
  {
   "cell_type": "code",
   "execution_count": 7,
   "metadata": {
    "collapsed": true
   },
   "outputs": [],
   "source": [
    "# training data\n",
    "train_target = np.delete(iris.target, test_idx)\n",
    "train_data = np.delete(iris.data, test_idx, axis=0)"
   ]
  },
  {
   "cell_type": "code",
   "execution_count": 8,
   "metadata": {
    "collapsed": true
   },
   "outputs": [],
   "source": [
    "# testing data\n",
    "test_target = iris.target[test_idx]\n",
    "test_data = iris.data[test_idx]"
   ]
  },
  {
   "cell_type": "code",
   "execution_count": 9,
   "metadata": {},
   "outputs": [
    {
     "data": {
      "text/plain": [
       "DecisionTreeClassifier(class_weight=None, criterion='gini', max_depth=None,\n",
       "            max_features=None, max_leaf_nodes=None,\n",
       "            min_impurity_split=1e-07, min_samples_leaf=1,\n",
       "            min_samples_split=2, min_weight_fraction_leaf=0.0,\n",
       "            presort=False, random_state=None, splitter='best')"
      ]
     },
     "execution_count": 9,
     "metadata": {},
     "output_type": "execute_result"
    }
   ],
   "source": [
    "clf = tree.DecisionTreeClassifier()\n",
    "clf.fit(train_data, train_target)"
   ]
  },
  {
   "cell_type": "code",
   "execution_count": 10,
   "metadata": {},
   "outputs": [
    {
     "data": {
      "text/plain": [
       "array([0, 1, 2])"
      ]
     },
     "execution_count": 10,
     "metadata": {},
     "output_type": "execute_result"
    }
   ],
   "source": [
    "test_target"
   ]
  },
  {
   "cell_type": "code",
   "execution_count": 11,
   "metadata": {},
   "outputs": [
    {
     "data": {
      "text/plain": [
       "array([0, 1, 2])"
      ]
     },
     "execution_count": 11,
     "metadata": {},
     "output_type": "execute_result"
    }
   ],
   "source": [
    "clf.predict(test_data)"
   ]
  },
  {
   "cell_type": "code",
   "execution_count": 14,
   "metadata": {},
   "outputs": [
    {
     "data": {
      "image/svg+xml": [
       "<?xml version=\"1.0\" encoding=\"UTF-8\" standalone=\"no\"?>\r\n",
       "<!DOCTYPE svg PUBLIC \"-//W3C//DTD SVG 1.1//EN\"\r\n",
       " \"http://www.w3.org/Graphics/SVG/1.1/DTD/svg11.dtd\">\r\n",
       "<!-- Generated by graphviz version 2.38.0 (20140413.2041)\r\n",
       " -->\r\n",
       "<!-- Title: Tree Pages: 1 -->\r\n",
       "<svg width=\"893pt\" height=\"581pt\"\r\n",
       " viewBox=\"0.00 0.00 893.00 581.00\" xmlns=\"http://www.w3.org/2000/svg\" xmlns:xlink=\"http://www.w3.org/1999/xlink\">\r\n",
       "<g id=\"graph0\" class=\"graph\" transform=\"scale(1 1) rotate(0) translate(4 577)\">\r\n",
       "<title>Tree</title>\r\n",
       "<polygon fill=\"white\" stroke=\"none\" points=\"-4,4 -4,-577 889,-577 889,4 -4,4\"/>\r\n",
       "<!-- 0 -->\r\n",
       "<g id=\"node1\" class=\"node\"><title>0</title>\r\n",
       "<path fill=\"none\" stroke=\"black\" d=\"M532.5,-573C532.5,-573 396.5,-573 396.5,-573 390.5,-573 384.5,-567 384.5,-561 384.5,-561 384.5,-517 384.5,-517 384.5,-511 390.5,-505 396.5,-505 396.5,-505 532.5,-505 532.5,-505 538.5,-505 544.5,-511 544.5,-517 544.5,-517 544.5,-561 544.5,-561 544.5,-567 538.5,-573 532.5,-573\"/>\r\n",
       "<text text-anchor=\"middle\" x=\"464.5\" y=\"-557.8\" font-family=\"Helvetica,sans-Serif\" font-size=\"14.00\">petal width (cm) &lt;= 0.8</text>\r\n",
       "<text text-anchor=\"middle\" x=\"464.5\" y=\"-542.8\" font-family=\"Helvetica,sans-Serif\" font-size=\"14.00\">samples = 147</text>\r\n",
       "<text text-anchor=\"middle\" x=\"464.5\" y=\"-527.8\" font-family=\"Helvetica,sans-Serif\" font-size=\"14.00\">value = [49, 49, 49]</text>\r\n",
       "<text text-anchor=\"middle\" x=\"464.5\" y=\"-512.8\" font-family=\"Helvetica,sans-Serif\" font-size=\"14.00\">class = setosa</text>\r\n",
       "</g>\r\n",
       "<!-- 1 -->\r\n",
       "<g id=\"node2\" class=\"node\"><title>1</title>\r\n",
       "<path fill=\"#e58139\" stroke=\"black\" d=\"M432,-461.5C432,-461.5 335,-461.5 335,-461.5 329,-461.5 323,-455.5 323,-449.5 323,-449.5 323,-420.5 323,-420.5 323,-414.5 329,-408.5 335,-408.5 335,-408.5 432,-408.5 432,-408.5 438,-408.5 444,-414.5 444,-420.5 444,-420.5 444,-449.5 444,-449.5 444,-455.5 438,-461.5 432,-461.5\"/>\r\n",
       "<text text-anchor=\"middle\" x=\"383.5\" y=\"-446.3\" font-family=\"Helvetica,sans-Serif\" font-size=\"14.00\">samples = 49</text>\r\n",
       "<text text-anchor=\"middle\" x=\"383.5\" y=\"-431.3\" font-family=\"Helvetica,sans-Serif\" font-size=\"14.00\">value = [49, 0, 0]</text>\r\n",
       "<text text-anchor=\"middle\" x=\"383.5\" y=\"-416.3\" font-family=\"Helvetica,sans-Serif\" font-size=\"14.00\">class = setosa</text>\r\n",
       "</g>\r\n",
       "<!-- 0&#45;&gt;1 -->\r\n",
       "<g id=\"edge1\" class=\"edge\"><title>0&#45;&gt;1</title>\r\n",
       "<path fill=\"none\" stroke=\"black\" d=\"M438.202,-504.884C429.206,-493.556 419.14,-480.88 410.119,-469.521\"/>\r\n",
       "<polygon fill=\"black\" stroke=\"black\" points=\"412.726,-467.174 403.766,-461.52 407.244,-471.528 412.726,-467.174\"/>\r\n",
       "<text text-anchor=\"middle\" x=\"400.916\" y=\"-482.657\" font-family=\"Helvetica,sans-Serif\" font-size=\"14.00\">True</text>\r\n",
       "</g>\r\n",
       "<!-- 2 -->\r\n",
       "<g id=\"node3\" class=\"node\"><title>2</title>\r\n",
       "<path fill=\"none\" stroke=\"black\" d=\"M618.5,-469C618.5,-469 474.5,-469 474.5,-469 468.5,-469 462.5,-463 462.5,-457 462.5,-457 462.5,-413 462.5,-413 462.5,-407 468.5,-401 474.5,-401 474.5,-401 618.5,-401 618.5,-401 624.5,-401 630.5,-407 630.5,-413 630.5,-413 630.5,-457 630.5,-457 630.5,-463 624.5,-469 618.5,-469\"/>\r\n",
       "<text text-anchor=\"middle\" x=\"546.5\" y=\"-453.8\" font-family=\"Helvetica,sans-Serif\" font-size=\"14.00\">petal width (cm) &lt;= 1.75</text>\r\n",
       "<text text-anchor=\"middle\" x=\"546.5\" y=\"-438.8\" font-family=\"Helvetica,sans-Serif\" font-size=\"14.00\">samples = 98</text>\r\n",
       "<text text-anchor=\"middle\" x=\"546.5\" y=\"-423.8\" font-family=\"Helvetica,sans-Serif\" font-size=\"14.00\">value = [0, 49, 49]</text>\r\n",
       "<text text-anchor=\"middle\" x=\"546.5\" y=\"-408.8\" font-family=\"Helvetica,sans-Serif\" font-size=\"14.00\">class = versicolor</text>\r\n",
       "</g>\r\n",
       "<!-- 0&#45;&gt;2 -->\r\n",
       "<g id=\"edge2\" class=\"edge\"><title>0&#45;&gt;2</title>\r\n",
       "<path fill=\"none\" stroke=\"black\" d=\"M491.123,-504.884C498.212,-496.065 505.958,-486.43 513.35,-477.235\"/>\r\n",
       "<polygon fill=\"black\" stroke=\"black\" points=\"516.192,-479.286 519.73,-469.299 510.736,-474.9 516.192,-479.286\"/>\r\n",
       "<text text-anchor=\"middle\" x=\"522.431\" y=\"-490.453\" font-family=\"Helvetica,sans-Serif\" font-size=\"14.00\">False</text>\r\n",
       "</g>\r\n",
       "<!-- 3 -->\r\n",
       "<g id=\"node4\" class=\"node\"><title>3</title>\r\n",
       "<path fill=\"#39e581\" fill-opacity=\"0.894118\" stroke=\"black\" d=\"M505.5,-365C505.5,-365 355.5,-365 355.5,-365 349.5,-365 343.5,-359 343.5,-353 343.5,-353 343.5,-309 343.5,-309 343.5,-303 349.5,-297 355.5,-297 355.5,-297 505.5,-297 505.5,-297 511.5,-297 517.5,-303 517.5,-309 517.5,-309 517.5,-353 517.5,-353 517.5,-359 511.5,-365 505.5,-365\"/>\r\n",
       "<text text-anchor=\"middle\" x=\"430.5\" y=\"-349.8\" font-family=\"Helvetica,sans-Serif\" font-size=\"14.00\">petal length (cm) &lt;= 4.95</text>\r\n",
       "<text text-anchor=\"middle\" x=\"430.5\" y=\"-334.8\" font-family=\"Helvetica,sans-Serif\" font-size=\"14.00\">samples = 53</text>\r\n",
       "<text text-anchor=\"middle\" x=\"430.5\" y=\"-319.8\" font-family=\"Helvetica,sans-Serif\" font-size=\"14.00\">value = [0, 48, 5]</text>\r\n",
       "<text text-anchor=\"middle\" x=\"430.5\" y=\"-304.8\" font-family=\"Helvetica,sans-Serif\" font-size=\"14.00\">class = versicolor</text>\r\n",
       "</g>\r\n",
       "<!-- 2&#45;&gt;3 -->\r\n",
       "<g id=\"edge3\" class=\"edge\"><title>2&#45;&gt;3</title>\r\n",
       "<path fill=\"none\" stroke=\"black\" d=\"M508.838,-400.884C498.404,-391.709 486.965,-381.65 476.13,-372.123\"/>\r\n",
       "<polygon fill=\"black\" stroke=\"black\" points=\"478.191,-369.274 468.37,-365.299 473.568,-374.531 478.191,-369.274\"/>\r\n",
       "</g>\r\n",
       "<!-- 12 -->\r\n",
       "<g id=\"node13\" class=\"node\"><title>12</title>\r\n",
       "<path fill=\"#8139e5\" fill-opacity=\"0.976471\" stroke=\"black\" d=\"M738.5,-365C738.5,-365 588.5,-365 588.5,-365 582.5,-365 576.5,-359 576.5,-353 576.5,-353 576.5,-309 576.5,-309 576.5,-303 582.5,-297 588.5,-297 588.5,-297 738.5,-297 738.5,-297 744.5,-297 750.5,-303 750.5,-309 750.5,-309 750.5,-353 750.5,-353 750.5,-359 744.5,-365 738.5,-365\"/>\r\n",
       "<text text-anchor=\"middle\" x=\"663.5\" y=\"-349.8\" font-family=\"Helvetica,sans-Serif\" font-size=\"14.00\">petal length (cm) &lt;= 4.85</text>\r\n",
       "<text text-anchor=\"middle\" x=\"663.5\" y=\"-334.8\" font-family=\"Helvetica,sans-Serif\" font-size=\"14.00\">samples = 45</text>\r\n",
       "<text text-anchor=\"middle\" x=\"663.5\" y=\"-319.8\" font-family=\"Helvetica,sans-Serif\" font-size=\"14.00\">value = [0, 1, 44]</text>\r\n",
       "<text text-anchor=\"middle\" x=\"663.5\" y=\"-304.8\" font-family=\"Helvetica,sans-Serif\" font-size=\"14.00\">class = virginica</text>\r\n",
       "</g>\r\n",
       "<!-- 2&#45;&gt;12 -->\r\n",
       "<g id=\"edge12\" class=\"edge\"><title>2&#45;&gt;12</title>\r\n",
       "<path fill=\"none\" stroke=\"black\" d=\"M584.487,-400.884C595.01,-391.709 606.548,-381.65 617.477,-372.123\"/>\r\n",
       "<polygon fill=\"black\" stroke=\"black\" points=\"620.066,-374.509 625.304,-365.299 615.466,-369.233 620.066,-374.509\"/>\r\n",
       "</g>\r\n",
       "<!-- 4 -->\r\n",
       "<g id=\"node5\" class=\"node\"><title>4</title>\r\n",
       "<path fill=\"#39e581\" fill-opacity=\"0.976471\" stroke=\"black\" d=\"M275.5,-261C275.5,-261 131.5,-261 131.5,-261 125.5,-261 119.5,-255 119.5,-249 119.5,-249 119.5,-205 119.5,-205 119.5,-199 125.5,-193 131.5,-193 131.5,-193 275.5,-193 275.5,-193 281.5,-193 287.5,-199 287.5,-205 287.5,-205 287.5,-249 287.5,-249 287.5,-255 281.5,-261 275.5,-261\"/>\r\n",
       "<text text-anchor=\"middle\" x=\"203.5\" y=\"-245.8\" font-family=\"Helvetica,sans-Serif\" font-size=\"14.00\">petal width (cm) &lt;= 1.65</text>\r\n",
       "<text text-anchor=\"middle\" x=\"203.5\" y=\"-230.8\" font-family=\"Helvetica,sans-Serif\" font-size=\"14.00\">samples = 47</text>\r\n",
       "<text text-anchor=\"middle\" x=\"203.5\" y=\"-215.8\" font-family=\"Helvetica,sans-Serif\" font-size=\"14.00\">value = [0, 46, 1]</text>\r\n",
       "<text text-anchor=\"middle\" x=\"203.5\" y=\"-200.8\" font-family=\"Helvetica,sans-Serif\" font-size=\"14.00\">class = versicolor</text>\r\n",
       "</g>\r\n",
       "<!-- 3&#45;&gt;4 -->\r\n",
       "<g id=\"edge4\" class=\"edge\"><title>3&#45;&gt;4</title>\r\n",
       "<path fill=\"none\" stroke=\"black\" d=\"M356.8,-296.884C334.385,-286.812 309.598,-275.674 286.608,-265.344\"/>\r\n",
       "<polygon fill=\"black\" stroke=\"black\" points=\"287.775,-262.031 277.219,-261.125 284.906,-268.416 287.775,-262.031\"/>\r\n",
       "</g>\r\n",
       "<!-- 7 -->\r\n",
       "<g id=\"node8\" class=\"node\"><title>7</title>\r\n",
       "<path fill=\"#8139e5\" fill-opacity=\"0.498039\" stroke=\"black\" d=\"M502.5,-261C502.5,-261 358.5,-261 358.5,-261 352.5,-261 346.5,-255 346.5,-249 346.5,-249 346.5,-205 346.5,-205 346.5,-199 352.5,-193 358.5,-193 358.5,-193 502.5,-193 502.5,-193 508.5,-193 514.5,-199 514.5,-205 514.5,-205 514.5,-249 514.5,-249 514.5,-255 508.5,-261 502.5,-261\"/>\r\n",
       "<text text-anchor=\"middle\" x=\"430.5\" y=\"-245.8\" font-family=\"Helvetica,sans-Serif\" font-size=\"14.00\">petal width (cm) &lt;= 1.55</text>\r\n",
       "<text text-anchor=\"middle\" x=\"430.5\" y=\"-230.8\" font-family=\"Helvetica,sans-Serif\" font-size=\"14.00\">samples = 6</text>\r\n",
       "<text text-anchor=\"middle\" x=\"430.5\" y=\"-215.8\" font-family=\"Helvetica,sans-Serif\" font-size=\"14.00\">value = [0, 2, 4]</text>\r\n",
       "<text text-anchor=\"middle\" x=\"430.5\" y=\"-200.8\" font-family=\"Helvetica,sans-Serif\" font-size=\"14.00\">class = virginica</text>\r\n",
       "</g>\r\n",
       "<!-- 3&#45;&gt;7 -->\r\n",
       "<g id=\"edge7\" class=\"edge\"><title>3&#45;&gt;7</title>\r\n",
       "<path fill=\"none\" stroke=\"black\" d=\"M430.5,-296.884C430.5,-288.778 430.5,-279.982 430.5,-271.472\"/>\r\n",
       "<polygon fill=\"black\" stroke=\"black\" points=\"434,-271.299 430.5,-261.299 427,-271.299 434,-271.299\"/>\r\n",
       "</g>\r\n",
       "<!-- 5 -->\r\n",
       "<g id=\"node6\" class=\"node\"><title>5</title>\r\n",
       "<path fill=\"#39e581\" stroke=\"black\" d=\"M115,-149.5C115,-149.5 12,-149.5 12,-149.5 6,-149.5 -7.10543e-015,-143.5 -7.10543e-015,-137.5 -7.10543e-015,-137.5 -7.10543e-015,-108.5 -7.10543e-015,-108.5 -7.10543e-015,-102.5 6,-96.5 12,-96.5 12,-96.5 115,-96.5 115,-96.5 121,-96.5 127,-102.5 127,-108.5 127,-108.5 127,-137.5 127,-137.5 127,-143.5 121,-149.5 115,-149.5\"/>\r\n",
       "<text text-anchor=\"middle\" x=\"63.5\" y=\"-134.3\" font-family=\"Helvetica,sans-Serif\" font-size=\"14.00\">samples = 46</text>\r\n",
       "<text text-anchor=\"middle\" x=\"63.5\" y=\"-119.3\" font-family=\"Helvetica,sans-Serif\" font-size=\"14.00\">value = [0, 46, 0]</text>\r\n",
       "<text text-anchor=\"middle\" x=\"63.5\" y=\"-104.3\" font-family=\"Helvetica,sans-Serif\" font-size=\"14.00\">class = versicolor</text>\r\n",
       "</g>\r\n",
       "<!-- 4&#45;&gt;5 -->\r\n",
       "<g id=\"edge5\" class=\"edge\"><title>4&#45;&gt;5</title>\r\n",
       "<path fill=\"none\" stroke=\"black\" d=\"M158.046,-192.884C141.592,-180.896 123.067,-167.399 106.803,-155.549\"/>\r\n",
       "<polygon fill=\"black\" stroke=\"black\" points=\"108.671,-152.58 98.5274,-149.52 104.549,-158.237 108.671,-152.58\"/>\r\n",
       "</g>\r\n",
       "<!-- 6 -->\r\n",
       "<g id=\"node7\" class=\"node\"><title>6</title>\r\n",
       "<path fill=\"#8139e5\" stroke=\"black\" d=\"M249.5,-149.5C249.5,-149.5 157.5,-149.5 157.5,-149.5 151.5,-149.5 145.5,-143.5 145.5,-137.5 145.5,-137.5 145.5,-108.5 145.5,-108.5 145.5,-102.5 151.5,-96.5 157.5,-96.5 157.5,-96.5 249.5,-96.5 249.5,-96.5 255.5,-96.5 261.5,-102.5 261.5,-108.5 261.5,-108.5 261.5,-137.5 261.5,-137.5 261.5,-143.5 255.5,-149.5 249.5,-149.5\"/>\r\n",
       "<text text-anchor=\"middle\" x=\"203.5\" y=\"-134.3\" font-family=\"Helvetica,sans-Serif\" font-size=\"14.00\">samples = 1</text>\r\n",
       "<text text-anchor=\"middle\" x=\"203.5\" y=\"-119.3\" font-family=\"Helvetica,sans-Serif\" font-size=\"14.00\">value = [0, 0, 1]</text>\r\n",
       "<text text-anchor=\"middle\" x=\"203.5\" y=\"-104.3\" font-family=\"Helvetica,sans-Serif\" font-size=\"14.00\">class = virginica</text>\r\n",
       "</g>\r\n",
       "<!-- 4&#45;&gt;6 -->\r\n",
       "<g id=\"edge6\" class=\"edge\"><title>4&#45;&gt;6</title>\r\n",
       "<path fill=\"none\" stroke=\"black\" d=\"M203.5,-192.884C203.5,-182.326 203.5,-170.597 203.5,-159.854\"/>\r\n",
       "<polygon fill=\"black\" stroke=\"black\" points=\"207,-159.52 203.5,-149.52 200,-159.52 207,-159.52\"/>\r\n",
       "</g>\r\n",
       "<!-- 8 -->\r\n",
       "<g id=\"node9\" class=\"node\"><title>8</title>\r\n",
       "<path fill=\"#8139e5\" stroke=\"black\" d=\"M383.5,-149.5C383.5,-149.5 291.5,-149.5 291.5,-149.5 285.5,-149.5 279.5,-143.5 279.5,-137.5 279.5,-137.5 279.5,-108.5 279.5,-108.5 279.5,-102.5 285.5,-96.5 291.5,-96.5 291.5,-96.5 383.5,-96.5 383.5,-96.5 389.5,-96.5 395.5,-102.5 395.5,-108.5 395.5,-108.5 395.5,-137.5 395.5,-137.5 395.5,-143.5 389.5,-149.5 383.5,-149.5\"/>\r\n",
       "<text text-anchor=\"middle\" x=\"337.5\" y=\"-134.3\" font-family=\"Helvetica,sans-Serif\" font-size=\"14.00\">samples = 3</text>\r\n",
       "<text text-anchor=\"middle\" x=\"337.5\" y=\"-119.3\" font-family=\"Helvetica,sans-Serif\" font-size=\"14.00\">value = [0, 0, 3]</text>\r\n",
       "<text text-anchor=\"middle\" x=\"337.5\" y=\"-104.3\" font-family=\"Helvetica,sans-Serif\" font-size=\"14.00\">class = virginica</text>\r\n",
       "</g>\r\n",
       "<!-- 7&#45;&gt;8 -->\r\n",
       "<g id=\"edge8\" class=\"edge\"><title>7&#45;&gt;8</title>\r\n",
       "<path fill=\"none\" stroke=\"black\" d=\"M400.306,-192.884C389.877,-181.446 378.196,-168.634 367.762,-157.19\"/>\r\n",
       "<polygon fill=\"black\" stroke=\"black\" points=\"370.092,-154.551 360.768,-149.52 364.919,-159.268 370.092,-154.551\"/>\r\n",
       "</g>\r\n",
       "<!-- 9 -->\r\n",
       "<g id=\"node10\" class=\"node\"><title>9</title>\r\n",
       "<path fill=\"#39e581\" fill-opacity=\"0.498039\" stroke=\"black\" d=\"M575.5,-157C575.5,-157 425.5,-157 425.5,-157 419.5,-157 413.5,-151 413.5,-145 413.5,-145 413.5,-101 413.5,-101 413.5,-95 419.5,-89 425.5,-89 425.5,-89 575.5,-89 575.5,-89 581.5,-89 587.5,-95 587.5,-101 587.5,-101 587.5,-145 587.5,-145 587.5,-151 581.5,-157 575.5,-157\"/>\r\n",
       "<text text-anchor=\"middle\" x=\"500.5\" y=\"-141.8\" font-family=\"Helvetica,sans-Serif\" font-size=\"14.00\">petal length (cm) &lt;= 5.45</text>\r\n",
       "<text text-anchor=\"middle\" x=\"500.5\" y=\"-126.8\" font-family=\"Helvetica,sans-Serif\" font-size=\"14.00\">samples = 3</text>\r\n",
       "<text text-anchor=\"middle\" x=\"500.5\" y=\"-111.8\" font-family=\"Helvetica,sans-Serif\" font-size=\"14.00\">value = [0, 2, 1]</text>\r\n",
       "<text text-anchor=\"middle\" x=\"500.5\" y=\"-96.8\" font-family=\"Helvetica,sans-Serif\" font-size=\"14.00\">class = versicolor</text>\r\n",
       "</g>\r\n",
       "<!-- 7&#45;&gt;9 -->\r\n",
       "<g id=\"edge9\" class=\"edge\"><title>7&#45;&gt;9</title>\r\n",
       "<path fill=\"none\" stroke=\"black\" d=\"M453.227,-192.884C459.157,-184.243 465.624,-174.819 471.819,-165.793\"/>\r\n",
       "<polygon fill=\"black\" stroke=\"black\" points=\"474.875,-167.525 477.647,-157.299 469.103,-163.564 474.875,-167.525\"/>\r\n",
       "</g>\r\n",
       "<!-- 10 -->\r\n",
       "<g id=\"node11\" class=\"node\"><title>10</title>\r\n",
       "<path fill=\"#39e581\" stroke=\"black\" d=\"M482,-53C482,-53 379,-53 379,-53 373,-53 367,-47 367,-41 367,-41 367,-12 367,-12 367,-6 373,-0 379,-0 379,-0 482,-0 482,-0 488,-0 494,-6 494,-12 494,-12 494,-41 494,-41 494,-47 488,-53 482,-53\"/>\r\n",
       "<text text-anchor=\"middle\" x=\"430.5\" y=\"-37.8\" font-family=\"Helvetica,sans-Serif\" font-size=\"14.00\">samples = 2</text>\r\n",
       "<text text-anchor=\"middle\" x=\"430.5\" y=\"-22.8\" font-family=\"Helvetica,sans-Serif\" font-size=\"14.00\">value = [0, 2, 0]</text>\r\n",
       "<text text-anchor=\"middle\" x=\"430.5\" y=\"-7.8\" font-family=\"Helvetica,sans-Serif\" font-size=\"14.00\">class = versicolor</text>\r\n",
       "</g>\r\n",
       "<!-- 9&#45;&gt;10 -->\r\n",
       "<g id=\"edge10\" class=\"edge\"><title>9&#45;&gt;10</title>\r\n",
       "<path fill=\"none\" stroke=\"black\" d=\"M476.017,-88.9485C469.444,-80.0749 462.326,-70.4648 455.714,-61.5388\"/>\r\n",
       "<polygon fill=\"black\" stroke=\"black\" points=\"458.329,-59.189 449.564,-53.2367 452.704,-63.3556 458.329,-59.189\"/>\r\n",
       "</g>\r\n",
       "<!-- 11 -->\r\n",
       "<g id=\"node12\" class=\"node\"><title>11</title>\r\n",
       "<path fill=\"#8139e5\" stroke=\"black\" d=\"M616.5,-53C616.5,-53 524.5,-53 524.5,-53 518.5,-53 512.5,-47 512.5,-41 512.5,-41 512.5,-12 512.5,-12 512.5,-6 518.5,-0 524.5,-0 524.5,-0 616.5,-0 616.5,-0 622.5,-0 628.5,-6 628.5,-12 628.5,-12 628.5,-41 628.5,-41 628.5,-47 622.5,-53 616.5,-53\"/>\r\n",
       "<text text-anchor=\"middle\" x=\"570.5\" y=\"-37.8\" font-family=\"Helvetica,sans-Serif\" font-size=\"14.00\">samples = 1</text>\r\n",
       "<text text-anchor=\"middle\" x=\"570.5\" y=\"-22.8\" font-family=\"Helvetica,sans-Serif\" font-size=\"14.00\">value = [0, 0, 1]</text>\r\n",
       "<text text-anchor=\"middle\" x=\"570.5\" y=\"-7.8\" font-family=\"Helvetica,sans-Serif\" font-size=\"14.00\">class = virginica</text>\r\n",
       "</g>\r\n",
       "<!-- 9&#45;&gt;11 -->\r\n",
       "<g id=\"edge11\" class=\"edge\"><title>9&#45;&gt;11</title>\r\n",
       "<path fill=\"none\" stroke=\"black\" d=\"M524.983,-88.9485C531.556,-80.0749 538.674,-70.4648 545.286,-61.5388\"/>\r\n",
       "<polygon fill=\"black\" stroke=\"black\" points=\"548.296,-63.3556 551.436,-53.2367 542.671,-59.189 548.296,-63.3556\"/>\r\n",
       "</g>\r\n",
       "<!-- 13 -->\r\n",
       "<g id=\"node14\" class=\"node\"><title>13</title>\r\n",
       "<path fill=\"#8139e5\" fill-opacity=\"0.498039\" stroke=\"black\" d=\"M733.5,-261C733.5,-261 593.5,-261 593.5,-261 587.5,-261 581.5,-255 581.5,-249 581.5,-249 581.5,-205 581.5,-205 581.5,-199 587.5,-193 593.5,-193 593.5,-193 733.5,-193 733.5,-193 739.5,-193 745.5,-199 745.5,-205 745.5,-205 745.5,-249 745.5,-249 745.5,-255 739.5,-261 733.5,-261\"/>\r\n",
       "<text text-anchor=\"middle\" x=\"663.5\" y=\"-245.8\" font-family=\"Helvetica,sans-Serif\" font-size=\"14.00\">sepal width (cm) &lt;= 3.1</text>\r\n",
       "<text text-anchor=\"middle\" x=\"663.5\" y=\"-230.8\" font-family=\"Helvetica,sans-Serif\" font-size=\"14.00\">samples = 3</text>\r\n",
       "<text text-anchor=\"middle\" x=\"663.5\" y=\"-215.8\" font-family=\"Helvetica,sans-Serif\" font-size=\"14.00\">value = [0, 1, 2]</text>\r\n",
       "<text text-anchor=\"middle\" x=\"663.5\" y=\"-200.8\" font-family=\"Helvetica,sans-Serif\" font-size=\"14.00\">class = virginica</text>\r\n",
       "</g>\r\n",
       "<!-- 12&#45;&gt;13 -->\r\n",
       "<g id=\"edge13\" class=\"edge\"><title>12&#45;&gt;13</title>\r\n",
       "<path fill=\"none\" stroke=\"black\" d=\"M663.5,-296.884C663.5,-288.778 663.5,-279.982 663.5,-271.472\"/>\r\n",
       "<polygon fill=\"black\" stroke=\"black\" points=\"667,-271.299 663.5,-261.299 660,-271.299 667,-271.299\"/>\r\n",
       "</g>\r\n",
       "<!-- 16 -->\r\n",
       "<g id=\"node17\" class=\"node\"><title>16</title>\r\n",
       "<path fill=\"#8139e5\" stroke=\"black\" d=\"M873,-253.5C873,-253.5 776,-253.5 776,-253.5 770,-253.5 764,-247.5 764,-241.5 764,-241.5 764,-212.5 764,-212.5 764,-206.5 770,-200.5 776,-200.5 776,-200.5 873,-200.5 873,-200.5 879,-200.5 885,-206.5 885,-212.5 885,-212.5 885,-241.5 885,-241.5 885,-247.5 879,-253.5 873,-253.5\"/>\r\n",
       "<text text-anchor=\"middle\" x=\"824.5\" y=\"-238.3\" font-family=\"Helvetica,sans-Serif\" font-size=\"14.00\">samples = 42</text>\r\n",
       "<text text-anchor=\"middle\" x=\"824.5\" y=\"-223.3\" font-family=\"Helvetica,sans-Serif\" font-size=\"14.00\">value = [0, 0, 42]</text>\r\n",
       "<text text-anchor=\"middle\" x=\"824.5\" y=\"-208.3\" font-family=\"Helvetica,sans-Serif\" font-size=\"14.00\">class = virginica</text>\r\n",
       "</g>\r\n",
       "<!-- 12&#45;&gt;16 -->\r\n",
       "<g id=\"edge16\" class=\"edge\"><title>12&#45;&gt;16</title>\r\n",
       "<path fill=\"none\" stroke=\"black\" d=\"M715.772,-296.884C735.041,-284.676 756.781,-270.903 775.728,-258.899\"/>\r\n",
       "<polygon fill=\"black\" stroke=\"black\" points=\"777.644,-261.828 784.219,-253.52 773.898,-255.915 777.644,-261.828\"/>\r\n",
       "</g>\r\n",
       "<!-- 14 -->\r\n",
       "<g id=\"node15\" class=\"node\"><title>14</title>\r\n",
       "<path fill=\"#8139e5\" stroke=\"black\" d=\"M709.5,-149.5C709.5,-149.5 617.5,-149.5 617.5,-149.5 611.5,-149.5 605.5,-143.5 605.5,-137.5 605.5,-137.5 605.5,-108.5 605.5,-108.5 605.5,-102.5 611.5,-96.5 617.5,-96.5 617.5,-96.5 709.5,-96.5 709.5,-96.5 715.5,-96.5 721.5,-102.5 721.5,-108.5 721.5,-108.5 721.5,-137.5 721.5,-137.5 721.5,-143.5 715.5,-149.5 709.5,-149.5\"/>\r\n",
       "<text text-anchor=\"middle\" x=\"663.5\" y=\"-134.3\" font-family=\"Helvetica,sans-Serif\" font-size=\"14.00\">samples = 2</text>\r\n",
       "<text text-anchor=\"middle\" x=\"663.5\" y=\"-119.3\" font-family=\"Helvetica,sans-Serif\" font-size=\"14.00\">value = [0, 0, 2]</text>\r\n",
       "<text text-anchor=\"middle\" x=\"663.5\" y=\"-104.3\" font-family=\"Helvetica,sans-Serif\" font-size=\"14.00\">class = virginica</text>\r\n",
       "</g>\r\n",
       "<!-- 13&#45;&gt;14 -->\r\n",
       "<g id=\"edge14\" class=\"edge\"><title>13&#45;&gt;14</title>\r\n",
       "<path fill=\"none\" stroke=\"black\" d=\"M663.5,-192.884C663.5,-182.326 663.5,-170.597 663.5,-159.854\"/>\r\n",
       "<polygon fill=\"black\" stroke=\"black\" points=\"667,-159.52 663.5,-149.52 660,-159.52 667,-159.52\"/>\r\n",
       "</g>\r\n",
       "<!-- 15 -->\r\n",
       "<g id=\"node16\" class=\"node\"><title>15</title>\r\n",
       "<path fill=\"#39e581\" stroke=\"black\" d=\"M855,-149.5C855,-149.5 752,-149.5 752,-149.5 746,-149.5 740,-143.5 740,-137.5 740,-137.5 740,-108.5 740,-108.5 740,-102.5 746,-96.5 752,-96.5 752,-96.5 855,-96.5 855,-96.5 861,-96.5 867,-102.5 867,-108.5 867,-108.5 867,-137.5 867,-137.5 867,-143.5 861,-149.5 855,-149.5\"/>\r\n",
       "<text text-anchor=\"middle\" x=\"803.5\" y=\"-134.3\" font-family=\"Helvetica,sans-Serif\" font-size=\"14.00\">samples = 1</text>\r\n",
       "<text text-anchor=\"middle\" x=\"803.5\" y=\"-119.3\" font-family=\"Helvetica,sans-Serif\" font-size=\"14.00\">value = [0, 1, 0]</text>\r\n",
       "<text text-anchor=\"middle\" x=\"803.5\" y=\"-104.3\" font-family=\"Helvetica,sans-Serif\" font-size=\"14.00\">class = versicolor</text>\r\n",
       "</g>\r\n",
       "<!-- 13&#45;&gt;15 -->\r\n",
       "<g id=\"edge15\" class=\"edge\"><title>13&#45;&gt;15</title>\r\n",
       "<path fill=\"none\" stroke=\"black\" d=\"M708.954,-192.884C725.408,-180.896 743.933,-167.399 760.197,-155.549\"/>\r\n",
       "<polygon fill=\"black\" stroke=\"black\" points=\"762.451,-158.237 768.473,-149.52 758.329,-152.58 762.451,-158.237\"/>\r\n",
       "</g>\r\n",
       "</g>\r\n",
       "</svg>\r\n"
      ],
      "text/plain": [
       "<graphviz.files.Source at 0x6dc41f0>"
      ]
     },
     "execution_count": 14,
     "metadata": {},
     "output_type": "execute_result"
    }
   ],
   "source": [
    "# viz code\n",
    "import graphviz\n",
    "dot_data = tree.export_graphviz(clf, out_file=None, feature_names=iris.feature_names, class_names=iris.target_names, filled=True, rounded=True, impurity=False) \n",
    "graph = graphviz.Source(dot_data) \n",
    "graph"
   ]
  },
  {
   "cell_type": "code",
   "execution_count": null,
   "metadata": {
    "collapsed": true
   },
   "outputs": [],
   "source": []
  }
 ],
 "metadata": {
  "kernelspec": {
   "display_name": "Python 3",
   "language": "python",
   "name": "python3"
  },
  "language_info": {
   "codemirror_mode": {
    "name": "ipython",
    "version": 3
   },
   "file_extension": ".py",
   "mimetype": "text/x-python",
   "name": "python",
   "nbconvert_exporter": "python",
   "pygments_lexer": "ipython3",
   "version": "3.6.1"
  }
 },
 "nbformat": 4,
 "nbformat_minor": 2
}
